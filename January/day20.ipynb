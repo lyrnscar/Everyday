{
 "cells": [
  {
   "cell_type": "code",
   "execution_count": 2,
   "metadata": {},
   "outputs": [],
   "source": [
    "import warnings\n",
    "warnings.filterwarnings(\"ignore\")"
   ]
  },
  {
   "cell_type": "code",
   "execution_count": 3,
   "metadata": {},
   "outputs": [
    {
     "name": "stdout",
     "output_type": "stream",
     "text": [
      "accuracy:0.95\n",
      "confusion matrix:\n",
      ":[[37  0  0  0  0  0  0  0  0  0]\n",
      " [ 0 39  0  0  0  0  2  0  2  0]\n",
      " [ 0  0 41  3  0  0  0  0  0  0]\n",
      " [ 0  0  1 43  0  0  0  0  0  1]\n",
      " [ 0  0  0  0 38  0  0  0  0  0]\n",
      " [ 0  1  0  0  0 47  0  0  0  0]\n",
      " [ 0  0  0  0  0  0 52  0  0  0]\n",
      " [ 0  1  0  1  1  0  0 45  0  0]\n",
      " [ 0  3  1  0  0  0  0  0 43  1]\n",
      " [ 0  0  0  1  0  1  0  0  1 44]]\n"
     ]
    }
   ],
   "source": [
    "from sklearn.metrics import accuracy_score\n",
    "import sys\n",
    "import pandas as pd\n",
    "import matplotlib\n",
    "import numpy as np\n",
    "import scipy as sp\n",
    "import IPython\n",
    "import sklearn\n",
    "import mglearn\n",
    "import matplotlib.pyplot as plt\n",
    "from sklearn.model_selection import train_test_split\n",
    "\n",
    "from sklearn.datasets import load_digits\n",
    "digits=load_digits()\n",
    "\n",
    "from sklearn.linear_model import LogisticRegression\n",
    "from sklearn.metrics import confusion_matrix\n",
    "\n",
    "X_train,X_test,y_train,y_test=train_test_split(digits.data,digits.target,random_state=0)\n",
    "lr=LogisticRegression().fit(X_train,y_train)\n",
    "pred=lr.predict(X_test)\n",
    "print(\"accuracy:{:.2f}\".format(accuracy_score(y_test,pred)))\n",
    "print(\"confusion matrix:\\n:{}\".format(confusion_matrix(y_test,pred)))"
   ]
  },
  {
   "cell_type": "code",
   "execution_count": 4,
   "metadata": {
    "scrolled": true
   },
   "outputs": [
    {
     "data": {
      "image/png": "[encoded data removed]",
      "text/plain": [
       "<Figure size 432x288 with 1 Axes>"
      ]
     },
     "metadata": {
      "needs_background": "light"
     },
     "output_type": "display_data"
    }
   ],
   "source": [
    "scores_image=mglearn.tools.heatmap(confusion_matrix(y_test,pred),xlabel='Predicted label',ylabel='True label',xticklabels=digits.target_names,\n",
    "                                  yticklabels=digits.target_names,cmap=plt.cm.gray_r,fmt=\"%d\")\n",
    "plt.title(\"Confusion matrix\")\n",
    "plt.gca().invert_yaxis()"
   ]
  },
  {
   "cell_type": "code",
   "execution_count": 6,
   "metadata": {
    "scrolled": false
   },
   "outputs": [
    {
     "name": "stdout",
     "output_type": "stream",
     "text": [
      "              precision    recall  f1-score   support\n",
      "\n",
      "           0       1.00      1.00      1.00        37\n",
      "           1       0.89      0.91      0.90        43\n",
      "           2       0.95      0.93      0.94        44\n",
      "           3       0.90      0.96      0.92        45\n",
      "           4       0.97      1.00      0.99        38\n",
      "           5       0.98      0.98      0.98        48\n",
      "           6       0.96      1.00      0.98        52\n",
      "           7       1.00      0.94      0.97        48\n",
      "           8       0.93      0.90      0.91        48\n",
      "           9       0.96      0.94      0.95        47\n",
      "\n",
      "    accuracy                           0.95       450\n",
      "   macro avg       0.95      0.95      0.95       450\n",
      "weighted avg       0.95      0.95      0.95       450\n",
      "\n"
     ]
    }
   ],
   "source": [
    "from sklearn.metrics import classification_report\n",
    "print(classification_report(y_test,pred))"
   ]
  },
  {
   "cell_type": "code",
   "execution_count": 8,
   "metadata": {},
   "outputs": [
    {
     "name": "stdout",
     "output_type": "stream",
     "text": [
      "Micro average f1 score:0.953\n",
      "Macro average f1 score:0.954\n"
     ]
    }
   ],
   "source": [
    "from sklearn.metrics import f1_score\n",
    "#宏macro平均，计算未加权的按类别的f分数，给所有类别相同的权重，无论类别中的样本量大小\n",
    "#加权weigh\n",
    "#微micro平均，计算所有类别中假正例，假反例和真正例的总数\n",
    "\n",
    "print(\"Micro average f1 score:{:.3f}\".format(f1_score(y_test,pred,average=\"micro\")))\n",
    "print(\"Macro average f1 score:{:.3f}\".format(f1_score(y_test,pred,average=\"macro\")))"
   ]
  },
  {
   "cell_type": "code",
   "execution_count": null,
   "metadata": {},
   "outputs": [],
   "source": [
    "#R^2是评估回归问题更直观的指标"
   ]
  },
  {
   "cell_type": "code",
   "execution_count": 14,
   "metadata": {},
   "outputs": [
    {
     "name": "stdout",
     "output_type": "stream",
     "text": [
      "Default scoring:[0.89983306 0.89983306 0.89983306]\n",
      "Explicit accuracy scoring :[0.89983306 0.89983306 0.89983306]\n",
      "AUC scoring:[0.99372294 0.98957947 0.99594929]\n"
     ]
    }
   ],
   "source": [
    "from sklearn.model_selection import cross_val_score\n",
    "from sklearn.svm import SVC\n",
    "#分类问题的默认评分是精度\n",
    "print(\"Default scoring:{}\".format(cross_val_score(SVC(),digits.data,digits.target==9)))\n",
    "#指定accuracy为scoring的参数不会改变结果\n",
    "explicit_accuracy=cross_val_score(SVC(),digits.data,digits.target==9,scoring=\"accuracy\")\n",
    "print(\"Explicit accuracy scoring :{}\".format(explicit_accuracy))\n",
    "roc_auc=cross_val_score(SVC(),digits.data,digits.target==9,scoring=\"roc_auc\")\n",
    "print(\"AUC scoring:{}\".format(roc_auc))"
   ]
  },
  {
   "cell_type": "code",
   "execution_count": 24,
   "metadata": {},
   "outputs": [
    {
     "name": "stdout",
     "output_type": "stream",
     "text": [
      "gridsearch with accuracy\n",
      "Best parameters: {'gamma': 0.0001}\n",
      "Best cross-validation score(accuracy)):0.970\n",
      "Test set AUC:0.992\n",
      "Test set accuracy:0.973\n"
     ]
    }
   ],
   "source": [
    "X_train,X_test,y_train,y_test=train_test_split(digits.data,digits.target==9,random_state=0)\n",
    "from sklearn.model_selection import GridSearchCV\n",
    "from sklearn.metrics import roc_auc_score\n",
    "\n",
    "#给出不太好的网格来说明\n",
    "param_grid={'gamma':[0.0001,0.01,0.1,1,10]}\n",
    "#使用默认的精度\n",
    "grid=GridSearchCV(SVC(),param_grid=param_grid)\n",
    "grid.fit(X_train,y_train)\n",
    "print(\"gridsearch with accuracy\")\n",
    "print(\"Best parameters:\",grid.best_params_)\n",
    "print(\"Best cross-validation score(accuracy)):{:.3f}\".format(grid.best_score_))\n",
    "print(\"Test set AUC:{:.3f}\".format(roc_auc_score(y_test,grid.decision_function(X_test))))\n",
    "print(\"Test set accuracy:{:.3f}\".format(grid.score(X_test,y_test)))"
   ]
  },
  {
   "cell_type": "code",
   "execution_count": 25,
   "metadata": {},
   "outputs": [
    {
     "name": "stdout",
     "output_type": "stream",
     "text": [
      "\n",
      "gridsearch with auc\n",
      "Best parameters: {'gamma': 0.01}\n",
      "Best cross-validation score(auc)):0.997\n",
      "Test set AUC:1.000\n",
      "Test set accuracy:1.000\n"
     ]
    }
   ],
   "source": [
    "grid=GridSearchCV(SVC(),param_grid=param_grid,scoring=\"roc_auc\")\n",
    "grid.fit(X_train,y_train)\n",
    "print(\"\\ngridsearch with auc\")\n",
    "print(\"Best parameters:\",grid.best_params_)\n",
    "print(\"Best cross-validation score(auc)):{:.3f}\".format(grid.best_score_))\n",
    "print(\"Test set AUC:{:.3f}\".format(roc_auc_score(y_test,grid.decision_function(X_test))))\n",
    "print(\"Test set accuracy:{:.3f}\".format(grid.score(X_test,y_test)))"
   ]
  },
  {
   "cell_type": "code",
   "execution_count": 26,
   "metadata": {
    "scrolled": true
   },
   "outputs": [
    {
     "name": "stdout",
     "output_type": "stream",
     "text": [
      "Available scorers:\n",
      "['accuracy', 'adjusted_mutual_info_score', 'adjusted_rand_score', 'average_precision', 'balanced_accuracy', 'brier_score_loss', 'completeness_score', 'explained_variance', 'f1', 'f1_macro', 'f1_micro', 'f1_samples', 'f1_weighted', 'fowlkes_mallows_score', 'homogeneity_score', 'jaccard', 'jaccard_macro', 'jaccard_micro', 'jaccard_samples', 'jaccard_weighted', 'max_error', 'mutual_info_score', 'neg_log_loss', 'neg_mean_absolute_error', 'neg_mean_squared_error', 'neg_mean_squared_log_error', 'neg_median_absolute_error', 'normalized_mutual_info_score', 'precision', 'precision_macro', 'precision_micro', 'precision_samples', 'precision_weighted', 'r2', 'recall', 'recall_macro', 'recall_micro', 'recall_samples', 'recall_weighted', 'roc_auc', 'v_measure_score']\n"
     ]
    }
   ],
   "source": [
    "#利用auc找到了精度更高的模型，可能是因为对不平衡数据来说，精度并不是模型性能的良好度量\n",
    "from sklearn.metrics.scorer import SCORERS\n",
    "print(\"Available scorers:\\n{}\".format(sorted(SCORERS.keys())))"
   ]
  },
  {
   "cell_type": "code",
   "execution_count": null,
   "metadata": {},
   "outputs": [],
   "source": [
    "#对分类问题，scoring参数最重要的是accuracy，roc_auc，average_precision（两个曲线下方面积），f1，f1_macro,f1_micro,f1_weighed\n",
    "#对回归问题，最常用包括r2，mean_squared_error（均方误差）mean_absolute_error（平均绝对误差）"
   ]
  },
  {
   "cell_type": "code",
   "execution_count": null,
   "metadata": {},
   "outputs": [],
   "source": [
    "#交叉验证或者使用测试集可以让我们评估未来表现，但是如果使用测试集或交叉验证来选择模型参数，就用完了测试集，发生了泄露得到理想结果\n",
    "#需要将数据集划分为训练数据，验证数据与测试数据，训练数据构建模型，验证数据选择模型和参数，测试数据用于模型评估，交叉验证代替每次简单划分\n",
    "#模型选择与模型评估的指标或评分函数相关，最终目标很少是构建一个高精度模型"
   ]
  }
 ],
 "metadata": {
  "kernelspec": {
   "display_name": "Python 3",
   "language": "python",
   "name": "python3"
  },
  "language_info": {
   "codemirror_mode": {
    "name": "ipython",
    "version": 3
   },
   "file_extension": ".py",
   "mimetype": "text/x-python",
   "name": "python",
   "nbconvert_exporter": "python",
   "pygments_lexer": "ipython3",
   "version": "3.7.4"
  }
 },
 "nbformat": 4,
 "nbformat_minor": 2
}
