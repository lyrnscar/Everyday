{
 "cells": [
  {
   "cell_type": "code",
   "execution_count": 1,
   "metadata": {},
   "outputs": [
    {
     "name": "stdout",
     "output_type": "stream",
     "text": [
      "请输入数字(回车退出): 12\n",
      "请输入数字(回车退出): 89\n",
      "请输入数字(回车退出): 99\n",
      "请输入数字(回车退出): 87\n",
      "请输入数字(回车退出): 765\n",
      "请输入数字(回车退出): 66\n",
      "请输入数字(回车退出): 86\n",
      "请输入数字(回车退出): 55\n",
      "请输入数字(回车退出): 44\n",
      "请输入数字(回车退出): 345\n",
      "请输入数字(回车退出): 986\n",
      "请输入数字(回车退出): \n",
      "平均值:239.45454545454547,方差:3.3e+02,中位数:66.\n"
     ]
    }
   ],
   "source": [
    "#CalStatisticsV1.py\n",
    "def getNum():       #获取用户不定长度的输入\n",
    "    nums = []\n",
    "    iNumStr = input(\"请输入数字(回车退出): \")\n",
    "    while iNumStr != \"\":\n",
    "        nums.append(eval(iNumStr))\n",
    "        iNumStr = input(\"请输入数字(回车退出): \")\n",
    "    return nums\n",
    " \n",
    "def mean(numbers):  #计算平均值\n",
    "    s = 0.0\n",
    "    for num in numbers:\n",
    "        s = s + num\n",
    "    return s / len(numbers)\n",
    " \n",
    "def dev(numbers, mean): #计算方差\n",
    "    sdev = 0.0\n",
    "    for num in numbers:\n",
    "        sdev = sdev + (num - mean)**2\n",
    "    return pow(sdev / (len(numbers)-1), 0.5)\n",
    " \n",
    "def median(numbers):    #计算中位数\n",
    "    sorted(numbers)\n",
    "    size = len(numbers)\n",
    "    if size % 2 == 0:\n",
    "        med = (numbers[size//2-1] + numbers[size//2])/2\n",
    "    else:\n",
    "        med = numbers[size//2]\n",
    "    return med\n",
    " \n",
    "n =  getNum() #主体函数\n",
    "m =  mean(n)\n",
    "print(\"平均值:{},方差:{:.2},中位数:{}.\".format(m, dev(n,m),median(n)))"
   ]
  },
  {
   "cell_type": "code",
   "execution_count": 3,
   "metadata": {},
   "outputs": [
    {
     "name": "stdout",
     "output_type": "stream",
     "text": [
      "the        1138\n",
      "and         965\n",
      "to          754\n",
      "of          669\n",
      "you         550\n",
      "i           542\n",
      "a           542\n",
      "my          514\n",
      "hamlet      462\n",
      "in          436\n"
     ]
    }
   ],
   "source": [
    "#CalHamletV1.py\n",
    "def getText():\n",
    "    txt = open(\"hamlet.txt\", \"r\").read()\n",
    "    txt = txt.lower()\n",
    "    for ch in '!\"#$%&()*+,-./:;<=>?@[\\\\]^_‘{|}~':\n",
    "        txt = txt.replace(ch, \" \")   #将文本中特殊字符替换为空格\n",
    "    return txt\n",
    " \n",
    "hamletTxt = getText()\n",
    "words  = hamletTxt.split()\n",
    "counts = {}\n",
    "for word in words:           \n",
    "    counts[word] = counts.get(word,0) + 1\n",
    "items = list(counts.items())\n",
    "items.sort(key=lambda x:x[1], reverse=True) \n",
    "for i in range(10):\n",
    "    word, count = items[i]\n",
    "    print (\"{0:<10}{1:>5}\".format(word, count))"
   ]
  },
  {
   "cell_type": "code",
   "execution_count": 6,
   "metadata": {},
   "outputs": [
    {
     "name": "stderr",
     "output_type": "stream",
     "text": [
      "Building prefix dict from the default dictionary ...\n",
      "Dumping model to file cache D:\\Tmp\\jieba.cache\n",
      "Loading model cost 1.119 seconds.\n",
      "Prefix dict has been built successfully.\n"
     ]
    },
    {
     "name": "stdout",
     "output_type": "stream",
     "text": [
      "曹操          953\n",
      "孔明          836\n",
      "将军          772\n",
      "却说          656\n",
      "玄德          585\n",
      "关公          510\n",
      "丞相          491\n",
      "二人          469\n",
      "不可          440\n",
      "荆州          425\n",
      "玄德曰         390\n",
      "孔明曰         390\n",
      "不能          384\n",
      "如此          378\n",
      "张飞          358\n"
     ]
    }
   ],
   "source": [
    "#CalThreeKingdomsV1.py\n",
    "import jieba\n",
    "txt = open(\"threekingdoms.txt\", \"r\", encoding='utf-8').read()\n",
    "words  = jieba.lcut(txt)\n",
    "counts = {}\n",
    "for word in words:\n",
    "    if len(word) == 1:\n",
    "        continue\n",
    "    else:\n",
    "        counts[word] = counts.get(word,0) + 1\n",
    "items = list(counts.items())\n",
    "items.sort(key=lambda x:x[1], reverse=True) \n",
    "for i in range(15):\n",
    "    word, count = items[i]\n",
    "    print (\"{0:<10}{1:>5}\".format(word, count))"
   ]
  },
  {
   "cell_type": "code",
   "execution_count": 7,
   "metadata": {},
   "outputs": [
    {
     "name": "stdout",
     "output_type": "stream",
     "text": [
      "曹操         1451\n",
      "孔明         1383\n",
      "刘备         1252\n",
      "关羽          784\n",
      "张飞          358\n",
      "商议          344\n",
      "如何          338\n",
      "主公          331\n",
      "军士          317\n",
      "吕布          300\n"
     ]
    }
   ],
   "source": [
    "#CalThreeKingdomsV2.py\n",
    "import jieba\n",
    "excludes = {\"将军\",\"却说\",\"荆州\",\"二人\",\"不可\",\"不能\",\"如此\"}\n",
    "txt = open(\"threekingdoms.txt\", \"r\", encoding='utf-8').read()\n",
    "words  = jieba.lcut(txt)\n",
    "counts = {}\n",
    "for word in words:\n",
    "    if len(word) == 1:\n",
    "        continue\n",
    "    elif word == \"诸葛亮\" or word == \"孔明曰\":\n",
    "        rword = \"孔明\"\n",
    "    elif word == \"关公\" or word == \"云长\":\n",
    "        rword = \"关羽\"\n",
    "    elif word == \"玄德\" or word == \"玄德曰\":\n",
    "        rword = \"刘备\"\n",
    "    elif word == \"孟德\" or word == \"丞相\":\n",
    "        rword = \"曹操\"\n",
    "    else:\n",
    "        rword = word\n",
    "    counts[rword] = counts.get(rword,0) + 1\n",
    "for word in excludes:\n",
    "    del counts[word]\n",
    "items = list(counts.items())\n",
    "items.sort(key=lambda x:x[1], reverse=True) \n",
    "for i in range(10):\n",
    "    word, count = items[i]\n",
    "    print (\"{0:<10}{1:>5}\".format(word, count))"
   ]
  },
  {
   "cell_type": "code",
   "execution_count": null,
   "metadata": {},
   "outputs": [],
   "source": []
  }
 ],
 "metadata": {
  "kernelspec": {
   "display_name": "Python 3",
   "language": "python",
   "name": "python3"
  },
  "language_info": {
   "codemirror_mode": {
    "name": "ipython",
    "version": 3
   },
   "file_extension": ".py",
   "mimetype": "text/x-python",
   "name": "python",
   "nbconvert_exporter": "python",
   "pygments_lexer": "ipython3",
   "version": "3.7.4"
  }
 },
 "nbformat": 4,
 "nbformat_minor": 2
}
