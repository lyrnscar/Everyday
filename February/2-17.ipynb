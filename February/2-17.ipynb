{
 "cells": [
  {
   "cell_type": "code",
   "execution_count": 17,
   "metadata": {},
   "outputs": [
    {
     "name": "stdout",
     "output_type": "stream",
     "text": [
      "这个程序模拟两个选手A和B的某种竞技比赛\n",
      "程序运行需要A和B的能力值（以0-1之间的小数表示）\n",
      "请输入选手A的能力值（0-1）:0.555\n",
      "请输入选手B的能力值（0-1）:0.6\n",
      "模拟比赛的场次：5000\n",
      "竞技分析开始，共模拟5000场比赛\n",
      "选手A获胜2032场比赛，占比40.6%\n",
      "选手B获胜2968场比赛，占比59.4%\n"
     ]
    }
   ],
   "source": [
    "from random import random\n",
    "def main():\n",
    "    printInfo()\n",
    "    probA,probB,n = getInputs()\n",
    "    winsA,winsB = simNGames(n,probA,probB)\n",
    "    printSummary(winsA,winsB)\n",
    "\n",
    "def printInfo():\n",
    "    print(\"这个程序模拟两个选手A和B的某种竞技比赛\")\n",
    "    print(\"程序运行需要A和B的能力值（以0-1之间的小数表示）\")\n",
    "\n",
    "def getInputs():\n",
    "    a = eval(input(\"请输入选手A的能力值（0-1）:\"))\n",
    "    b = eval(input(\"请输入选手B的能力值（0-1）:\"))\n",
    "    n = eval(input(\"模拟比赛的场次：\"))\n",
    "    return a,b,n\n",
    "\n",
    "def printSummary(winsA, winsB):\n",
    "    n = winsA + winsB\n",
    "    print(\"竞技分析开始，共模拟{}场比赛\".format(n))\n",
    "    print(\"选手A获胜{}场比赛，占比{:0.1%}\".format(winsA,winsA/n))\n",
    "    print(\"选手B获胜{}场比赛，占比{:0.1%}\".format(winsB,winsB/n))\n",
    "\n",
    "def simNGames(n,probA,probB):\n",
    "    winsA,winsB = 0,0\n",
    "    for i in range(n):\n",
    "        scoreA, scoreB = simOneGame(probA,probB)\n",
    "        if scoreA > scoreB:\n",
    "            winsA += 1\n",
    "        else:\n",
    "            winsB += 1\n",
    "    return winsA, winsB\n",
    "\n",
    "def simOneGame(probA, probB):\n",
    "    scoreA, scoreB = 0,0\n",
    "    serving = \"A\"\n",
    "    while not gameOver(scoreA,scoreB):\n",
    "        if serving == \"A\":\n",
    "            if random() < probA:\n",
    "                scoreA += 1\n",
    "            else:\n",
    "                serving = \"B\"\n",
    "        else:\n",
    "            if random() < probB:\n",
    "                scoreB += 1\n",
    "            else:\n",
    "                serving = \"A\"\n",
    "    return scoreA, scoreB\n",
    "\n",
    "def gameOver(a,b):\n",
    "    return a==15 or b==15\n",
    "\n",
    "main()"
   ]
  },
  {
   "cell_type": "code",
   "execution_count": 13,
   "metadata": {},
   "outputs": [
    {
     "data": {
      "text/plain": [
       "0.5619305523155617"
      ]
     },
     "execution_count": 13,
     "metadata": {},
     "output_type": "execute_result"
    }
   ],
   "source": [
    "import random\n",
    "a = random.random()\n",
    "a"
   ]
  },
  {
   "cell_type": "code",
   "execution_count": 18,
   "metadata": {},
   "outputs": [
    {
     "data": {
      "text/plain": [
       "0.9758322356941274"
      ]
     },
     "execution_count": 18,
     "metadata": {},
     "output_type": "execute_result"
    }
   ],
   "source": [
    "random()"
   ]
  },
  {
   "cell_type": "code",
   "execution_count": null,
   "metadata": {},
   "outputs": [],
   "source": []
  }
 ],
 "metadata": {
  "kernelspec": {
   "display_name": "Python 3",
   "language": "python",
   "name": "python3"
  },
  "language_info": {
   "codemirror_mode": {
    "name": "ipython",
    "version": 3
   },
   "file_extension": ".py",
   "mimetype": "text/x-python",
   "name": "python",
   "nbconvert_exporter": "python",
   "pygments_lexer": "ipython3",
   "version": "3.7.4"
  }
 },
 "nbformat": 4,
 "nbformat_minor": 2
}
