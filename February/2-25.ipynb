{
 "cells": [
  {
   "cell_type": "code",
   "execution_count": null,
   "metadata": {},
   "outputs": [],
   "source": [
    "#网络爬虫大部分规模较小，数据量小，对速度不敏感，这种情况使用requests库，占90%\n",
    "#中等规模，数据规模较大，对速度敏感，使用scrapy\n",
    "#大规模，搜索引擎使用，爬取速度很关键，爬取全网，通过定制开发，不存在第三方库"
   ]
  },
  {
   "cell_type": "code",
   "execution_count": null,
   "metadata": {},
   "outputs": [],
   "source": [
    "#主要考虑的是资源开销问题\n",
    "#牟利带来过法律风险，it技术公司进监狱\n",
    "#隐私泄露造成的问题（互联网时代没有隐私）"
   ]
  },
  {
   "cell_type": "code",
   "execution_count": null,
   "metadata": {},
   "outputs": [],
   "source": [
    "#来源审查，通过User-Agent进行限制，检查来访http协议头部的user-agent域，只响应浏览器或友好爬虫的访问\n",
    "#发布公告，Robots协议，要求爬虫遵守\n",
    "#根目录下的robots.txt文件告知哪些页面可以抓取，哪些不可以"
   ]
  },
  {
   "cell_type": "code",
   "execution_count": null,
   "metadata": {},
   "outputs": [],
   "source": [
    "#网络爬虫识别后进行爬取，robots只是建议\n",
    "#类人行为可不参考robots"
   ]
  }
 ],
 "metadata": {
  "kernelspec": {
   "display_name": "Python 3",
   "language": "python",
   "name": "python3"
  },
  "language_info": {
   "codemirror_mode": {
    "name": "ipython",
    "version": 3
   },
   "file_extension": ".py",
   "mimetype": "text/x-python",
   "name": "python",
   "nbconvert_exporter": "python",
   "pygments_lexer": "ipython3",
   "version": "3.7.4"
  }
 },
 "nbformat": 4,
 "nbformat_minor": 2
}
